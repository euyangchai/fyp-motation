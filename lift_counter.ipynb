{
 "cells": [
  {
   "cell_type": "code",
   "execution_count": 23,
   "source": [
    "import mediapipe as mp\n",
    "import cv2\n",
    "import numpy as np\n",
    "\n",
    "# draw landmarks & connections to screen\n",
    "mp_drawing = mp.solutions.drawing_utils\n",
    "# import Pose model\n",
    "mp_pose = mp.solutions.pose\n",
    "# initialise counter, set to 0\n",
    "counter = 0\n",
    "# initialise stage which describes the motion\n",
    "stage = 'DOWN'"
   ],
   "outputs": [],
   "metadata": {}
  },
  {
   "cell_type": "code",
   "execution_count": 24,
   "source": [
    "def calc_angle(x, y, z):\n",
    "    x = np.array(x)\n",
    "    y = np.array(y)\n",
    "    z = np.array(z)\n",
    "\n",
    "    radians = np.arctan2(z[1]-y[1], z[0]-y[0]) - np.arctan2(x[1]-y[1], x[0]-y[0])\n",
    "    angle = np.abs(radians * 180.0 / np.pi)\n",
    "\n",
    "    if angle > 180.0:\n",
    "        angle = 360 - angle\n",
    "\n",
    "    return angle"
   ],
   "outputs": [],
   "metadata": {}
  },
  {
   "cell_type": "code",
   "execution_count": 25,
   "source": [
    "def recognise_lift(detection):\n",
    "    global counter\n",
    "    global stage\n",
    "    try:\n",
    "        landmarks = detection.pose_landmarks.landmark\n",
    "        # left arm\n",
    "        left_wrist = [landmarks[mp_pose.PoseLandmark.LEFT_WRIST.value].x, landmarks[mp_pose.PoseLandmark.LEFT_WRIST.value].y]\n",
    "        left_shoulder = [landmarks[mp_pose.PoseLandmark.LEFT_SHOULDER.value].x, landmarks[mp_pose.PoseLandmark.LEFT_SHOULDER.value].y]\n",
    "        left_elbow = [landmarks[mp_pose.PoseLandmark.LEFT_ELBOW.value].x, landmarks[mp_pose.PoseLandmark.LEFT_ELBOW.value].y] \n",
    "        left_hip = [landmarks[mp_pose.PoseLandmark.LEFT_HIP.value].x, landmarks[mp_pose.PoseLandmark.LEFT_HIP.value].y]\n",
    "        # right arm\n",
    "        right_wrist = [landmarks[mp_pose.PoseLandmark.RIGHT_WRIST.value].x, landmarks[mp_pose.PoseLandmark.RIGHT_WRIST.value].y]\n",
    "        right_shoulder = [landmarks[mp_pose.PoseLandmark.RIGHT_SHOULDER.value].x, landmarks[mp_pose.PoseLandmark.RIGHT_SHOULDER.value].y]\n",
    "        right_elbow = [landmarks[mp_pose.PoseLandmark.RIGHT_ELBOW.value].x, landmarks[mp_pose.PoseLandmark.RIGHT_ELBOW.value].y]\n",
    "        right_hip = [landmarks[mp_pose.PoseLandmark.RIGHT_HIP.value].x, landmarks[mp_pose.PoseLandmark.RIGHT_HIP.value].y]\n",
    "        \n",
    "        left_elbow_angle = calc_angle(left_shoulder, left_elbow, left_wrist)\n",
    "        right_elbow_angle = calc_angle(right_shoulder, right_elbow, right_wrist)\n",
    "        left_armpit_angle = calc_angle(left_elbow, left_shoulder, left_hip)\n",
    "        right_armpit_angle = calc_angle(right_elbow, right_shoulder, right_hip)\n",
    "\n",
    "        # logic\n",
    "        if (left_elbow_angle < 90 and left_armpit_angle < 90) and (right_elbow_angle < 90 and right_armpit_angle < 90):\n",
    "            stage = 'DOWN'\n",
    "        if (left_elbow_angle > 150 and left_armpit_angle > 150) and (right_elbow_angle > 150 and right_armpit_angle > 150) and stage == 'DOWN':\n",
    "            stage = 'UP'\n",
    "            counter += 1\n",
    "    \n",
    "    except:\n",
    "        pass"
   ],
   "outputs": [],
   "metadata": {}
  },
  {
   "cell_type": "code",
   "execution_count": 26,
   "source": [
    "feed = cv2.VideoCapture(0)\n",
    "\n",
    "# Mediapipe Pose model instance\n",
    "with mp_pose.Pose(min_detection_confidence=50, min_tracking_confidence=50) as pose:\n",
    "    while feed.isOpened():\n",
    "        ret, frame = feed.read()\n",
    "        # Recolor image from BGR to RGB\n",
    "        image = cv2.cvtColor(frame, cv2.COLOR_BGR2RGB)\n",
    "        image.flags.writeable = False\n",
    "        # Pose detection\n",
    "        detection = pose.process(image)\n",
    "        # Recolor image from RGB back to BGR\n",
    "        image = cv2.cvtColor(image, cv2.COLOR_BGR2RGB)\n",
    "        image.flags.writeable = True\n",
    "\n",
    "        # Render detections\n",
    "        mp_drawing.draw_landmarks(image, detection.pose_landmarks, mp_pose.POSE_CONNECTIONS,\n",
    "                                mp_drawing.DrawingSpec(color=(245,117,66), thickness=2, circle_radius=2), \n",
    "                                mp_drawing.DrawingSpec(color=(245,66,230), thickness=2, circle_radius=2))\n",
    "        \n",
    "        # Recognise particular exercise [REPLACABLE]\n",
    "        recognise_lift(detection)\n",
    "\n",
    "        # Status box setup\n",
    "        cv2.rectangle(image, (0,0), (235,73), (245,117,16), -1)\n",
    "        cv2.putText(image, \"REPS:\", (15,12), cv2.FONT_HERSHEY_SIMPLEX, 0.5, (0,0,0), 1, cv2.LINE_AA) # font, size, color, line width, line type\n",
    "        cv2.putText(image, \"STAGE:\", (100,12), cv2.FONT_HERSHEY_SIMPLEX, 0.5, (0,0,0), 1, cv2.LINE_AA)\n",
    "        cv2.putText(image, str(counter), (10,70), cv2.FONT_HERSHEY_SIMPLEX, 1.5, (255,255,255), 2, cv2.LINE_AA)\n",
    "        cv2.putText(image, stage, (110,70), cv2.FONT_HERSHEY_SIMPLEX, 1.5, (255,255,255), 2, cv2.LINE_AA)\n",
    "        \n",
    "        cv2.imshow('Lift Counter', image)\n",
    "\n",
    "        # quit webcam\n",
    "        if cv2.waitKey(10) & 0xFF == ord('q'):\n",
    "            break\n",
    "\n",
    "cv2.destroyAllWindows()\n",
    "cv2.waitKey(1)\n",
    "feed.release()"
   ],
   "outputs": [],
   "metadata": {}
  },
  {
   "cell_type": "code",
   "execution_count": 7,
   "source": [
    "cv2.destroyAllWindows()\n",
    "cv2.waitKey(1)\n",
    "feed.release()"
   ],
   "outputs": [],
   "metadata": {}
  },
  {
   "cell_type": "code",
   "execution_count": null,
   "source": [],
   "outputs": [],
   "metadata": {}
  }
 ],
 "metadata": {
  "orig_nbformat": 4,
  "language_info": {
   "name": "python",
   "version": "3.8.8",
   "mimetype": "text/x-python",
   "codemirror_mode": {
    "name": "ipython",
    "version": 3
   },
   "pygments_lexer": "ipython3",
   "nbconvert_exporter": "python",
   "file_extension": ".py"
  },
  "kernelspec": {
   "name": "python3",
   "display_name": "Python 3.8.8 64-bit ('base': conda)"
  },
  "interpreter": {
   "hash": "59a405f1726472a162cc781ed4eb20327b1952d524a6dd4c2bb460d59f3bfd54"
  }
 },
 "nbformat": 4,
 "nbformat_minor": 2
}