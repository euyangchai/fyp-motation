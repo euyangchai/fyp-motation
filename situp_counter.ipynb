{
 "cells": [
  {
   "cell_type": "code",
   "execution_count": 1,
   "metadata": {},
   "outputs": [],
   "source": [
    "#!pip install mediapipe opencv-python"
   ]
  },
  {
   "cell_type": "code",
   "execution_count": 2,
   "metadata": {},
   "outputs": [],
   "source": [
    "import cv2\n",
    "import mediapipe as mp\n",
    "import numpy as np\n",
    "\n",
    "mp_drawing = mp.solutions.drawing_utils\n",
    "mp_pose = mp.solutions.pose"
   ]
  },
  {
   "cell_type": "code",
   "execution_count": 3,
   "metadata": {},
   "outputs": [],
   "source": [
    "def calc_angle(a,b,c): # angle between 3 points\n",
    "    a = np.array(a) # first joint\n",
    "    b = np.array(b) # mid joint\n",
    "    c = np.array(c) # end joint\n",
    "    \n",
    "    radian = np.arctan2(c[1]-b[1], c[0]-b[0]) - np.arctan2(a[1]-b[1], a[0]-b[0])\n",
    "    angle = np.abs(radian*180.0/np.pi)\n",
    "    \n",
    "    if angle > 180.0:\n",
    "        angle = 360 - angle\n",
    "        \n",
    "    return angle"
   ]
  },
  {
   "cell_type": "code",
   "execution_count": 4,
   "metadata": {},
   "outputs": [],
   "source": [
    "def situp_counter():\n",
    "    \n",
    "    global counter\n",
    "    global stage\n",
    "    try: \n",
    "        landmarks = results.pose_landmarks.landmark\n",
    "        \n",
    "        left_hip = [landmarks[mp_pose.PoseLandmark.LEFT_HIP.value].x, landmarks[mp_pose.PoseLandmark.LEFT_HIP.value].y]\n",
    "        left_knee = [landmarks[mp_pose.PoseLandmark.LEFT_KNEE.value].x, landmarks[mp_pose.PoseLandmark.LEFT_KNEE.value].y]\n",
    "        left_heel = [landmarks[mp_pose.PoseLandmark.LEFT_HEEL.value].x, landmarks[mp_pose.PoseLandmark.LEFT_HEEL.value].y]\n",
    "        left_shoulder = [landmarks[mp_pose.PoseLandmark.LEFT_SHOULDER.value].x, landmarks[mp_pose.PoseLandmark.LEFT_SHOULDER.value].y]\n",
    "\n",
    "        # CALCULATE ANGLES \n",
    "        angle_knee = calc_angle(left_hip, left_knee, left_heel)\n",
    "        angle_body = calc_angle(left_shoulder, left_hip, left_knee)\n",
    "\n",
    "        # VISUALIZE ANGLES\n",
    "        cv2.putText(image,str(round(angle_knee,2)),\n",
    "                    # determine position to display text of angle\n",
    "                    tuple(np.multiply(left_knee,[640,480]).astype(int)), \n",
    "                    cv2.FONT_HERSHEY_SIMPLEX, 0.5,  (255, 255, 255), 2, cv2.LINE_AA \n",
    "                   )\n",
    "        cv2.putText(image,str(round(angle_body,2)),\n",
    "                    # determine position to display text of angle\n",
    "                    tuple(np.multiply(left_hip,[640,480]).astype(int)), \n",
    "                    cv2.FONT_HERSHEY_SIMPLEX, 0.5,  (255, 255, 255), 2, cv2.LINE_AA \n",
    "                   )\n",
    "      \n",
    "        if angle_knee <60 and angle_body>100 :\n",
    "            stage = \"DOWN\"\n",
    "        if ((angle_knee <60 and angle_body<45) and stage == \"DOWN\"):\n",
    "            stage = \"UP\"\n",
    "            counter += 1\n",
    "            #print(counter)\n",
    "\n",
    "    except: \n",
    "        pass\n"
   ]
  },
  {
   "cell_type": "code",
   "execution_count": 5,
   "metadata": {},
   "outputs": [
    {
     "name": "stdout",
     "output_type": "stream",
     "text": [
      "1\n",
      "2\n",
      "3\n",
      "4\n",
      "5\n"
     ]
    }
   ],
   "source": [
    "cap = cv2.VideoCapture(0) \n",
    "\n",
    "counter = 0\n",
    "stage = None\n",
    "\n",
    "with mp_pose.Pose(min_detection_confidence=0.5, min_tracking_confidence=0.5) as pose: # accuracy \n",
    "    while cap.isOpened():\n",
    "        ret,frame = cap.read() \n",
    "        \n",
    "        image = cv2.cvtColor(frame, cv2.COLOR_BGR2RGB) \n",
    "        image.flags.writeable = False \n",
    "        \n",
    "        results = pose.process(image) \n",
    "        \n",
    "        image.flags.writeable = True\n",
    "        image = cv2.cvtColor(image, cv2.COLOR_RGB2BGR) \n",
    "        \n",
    "        #Functions\n",
    "        ####\n",
    "        situp_counter()\n",
    "        ####\n",
    "        \n",
    "        cv2.rectangle(image, (0,0), (235,73), (245,117,16), -1) \n",
    "        \n",
    "        # Rep data\n",
    "        cv2.putText(image, \"REPS:\", (15,12), \n",
    "                   cv2.FONT_HERSHEY_SIMPLEX, 0.5, (0,0,0), 1, cv2.LINE_AA) # font, size, color, line width, line type\n",
    "        \n",
    "        cv2.putText(image, str(counter), (10,70),\n",
    "                   cv2.FONT_HERSHEY_SIMPLEX, 1.5, (255,255,255), 2, cv2.LINE_AA)\n",
    "        \n",
    "        # Stage data\n",
    "        cv2.putText(image, \"STAGE:\", (100,12), \n",
    "                   cv2.FONT_HERSHEY_SIMPLEX, 0.5, (0,0,0), 1, cv2.LINE_AA) \n",
    "        \n",
    "        cv2.putText(image, stage, (110,70),\n",
    "                   cv2.FONT_HERSHEY_SIMPLEX, 1.5, (255,255,255), 2, cv2.LINE_AA)\n",
    "            \n",
    "  \n",
    "        mp_drawing.draw_landmarks(image, results.pose_landmarks, mp_pose.POSE_CONNECTIONS,\n",
    "                                 mp_drawing.DrawingSpec(color=(0,0,255),thickness=2, circle_radius=2), \n",
    "                                  mp_drawing.DrawingSpec(color=(0,255,0),thickness=2, circle_radius=2) \n",
    "                                 )\n",
    "        \n",
    "        window_name = 'Sit-up Counter'\n",
    "        \n",
    "        cv2.namedWindow(window_name, cv2.WINDOW_NORMAL)\n",
    "        cv2.imshow(window_name, image)\n",
    "\n",
    "        if cv2.waitKey(10) & 0xFF == ord(\"q\"): \n",
    "            break\n",
    "\n",
    "    cap.release() \n",
    "    cv2.destroyAllWindows()"
   ]
  },
  {
   "cell_type": "code",
   "execution_count": null,
   "metadata": {},
   "outputs": [],
   "source": []
  }
 ],
 "metadata": {
  "kernelspec": {
   "display_name": "Python 3",
   "language": "python",
   "name": "python3"
  },
  "language_info": {
   "codemirror_mode": {
    "name": "ipython",
    "version": 3
   },
   "file_extension": ".py",
   "mimetype": "text/x-python",
   "name": "python",
   "nbconvert_exporter": "python",
   "pygments_lexer": "ipython3",
   "version": "3.7.3"
  }
 },
 "nbformat": 4,
 "nbformat_minor": 5
}
